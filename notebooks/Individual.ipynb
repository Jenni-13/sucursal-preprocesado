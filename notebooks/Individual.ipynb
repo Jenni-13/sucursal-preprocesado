{
 "cells": [
  {
   "cell_type": "code",
   "execution_count": 8,
   "id": "f90cef2c-cb81-4c0b-931a-3b04b8df2575",
   "metadata": {
    "scrolled": true
   },
   "outputs": [
    {
     "name": "stdout",
     "output_type": "stream",
     "text": [
      "VENTAS:\n",
      "   id_sucursal nombre_sucursal                  direccion  \\\n",
      "0            1          Avavee  99869 Meadow Ridge Circle   \n",
      "1            2         Jaxbean       20491 Sauthoff Trail   \n",
      "2            3       Gigashots           8 Dovetail Court   \n",
      "3            4         Pixonyx            1 Talisman Pass   \n",
      "4            5         Yakitri     4254 Crescent Oaks Way   \n",
      "\n",
      "                ciudad        pais      telefono  codigo_postal  \\\n",
      "0                Nîmes      France  529-725-8784  30942 CEDEX 9   \n",
      "1              Bungkal   Indonesia  686-904-4283            NaN   \n",
      "2                Ipirá      Brazil  379-697-7291      44600-000   \n",
      "3                Genzi       China  797-784-7603            NaN   \n",
      "4  Boevange-sur-Attert  Luxembourg  321-246-7725         L-8711   \n",
      "\n",
      "                   email fecha_apertura  \n",
      "0   acrutcher0@wikia.com     10/14/2024  \n",
      "1  dmatteucci1@bbc.co.uk      4/22/2025  \n",
      "2     maubray2@desdev.cn      6/12/2025  \n",
      "3   cnoury3@mashable.com      1/15/2025  \n",
      "4  csherwood4@eepurl.com      7/23/2024  \n",
      "\n",
      "SUCURSALES:\n",
      "   id_sucursal nombre_sucursal                  direccion  \\\n",
      "0            1          Avavee  99869 Meadow Ridge Circle   \n",
      "1            2         Jaxbean       20491 Sauthoff Trail   \n",
      "2            3       Gigashots           8 Dovetail Court   \n",
      "3            4         Pixonyx            1 Talisman Pass   \n",
      "4            5         Yakitri     4254 Crescent Oaks Way   \n",
      "\n",
      "                ciudad        pais      telefono  codigo_postal  \\\n",
      "0                Nîmes      France  529-725-8784  30942 CEDEX 9   \n",
      "1              Bungkal   Indonesia  686-904-4283            NaN   \n",
      "2                Ipirá      Brazil  379-697-7291      44600-000   \n",
      "3                Genzi       China  797-784-7603            NaN   \n",
      "4  Boevange-sur-Attert  Luxembourg  321-246-7725         L-8711   \n",
      "\n",
      "                   email fecha_apertura  \n",
      "0   acrutcher0@wikia.com     10/14/2024  \n",
      "1  dmatteucci1@bbc.co.uk      4/22/2025  \n",
      "2     maubray2@desdev.cn      6/12/2025  \n",
      "3   cnoury3@mashable.com      1/15/2025  \n",
      "4  csherwood4@eepurl.com      7/23/2024  \n"
     ]
    }
   ],
   "source": [
    "import pandas as pd\n",
    "\n",
    "\n",
    "# Cargar los archivos\n",
    "ventas = pd.read_csv('C:/Users/jenif/sucursal-preprocesado/datos_originales/sucursales.csv')\n",
    "sucursales = pd.read_csv('C:/Users/jenif/sucursal-preprocesado/datos_originales/sucursales.csv')\n",
    "\n",
    "# Vista previa\n",
    "print(\"VENTAS:\")\n",
    "print(ventas.head())\n",
    "\n",
    "print(\"\\nSUCURSALES:\")\n",
    "print(sucursales.head())\n"
   ]
  },
  {
   "cell_type": "code",
   "execution_count": 9,
   "id": "d0f5fc80-fdec-4a80-ba53-aefc4578ee64",
   "metadata": {},
   "outputs": [
    {
     "name": "stdout",
     "output_type": "stream",
     "text": [
      "NULOS EN VENTAS:\n",
      " id_sucursal         0\n",
      "nombre_sucursal     0\n",
      "direccion           0\n",
      "ciudad              0\n",
      "pais                0\n",
      "telefono            0\n",
      "codigo_postal      53\n",
      "email               0\n",
      "fecha_apertura      0\n",
      "dtype: int64\n",
      "\n",
      "NULOS EN SUCURSALES:\n",
      " id_sucursal         0\n",
      "nombre_sucursal     0\n",
      "direccion           0\n",
      "ciudad              0\n",
      "pais                0\n",
      "telefono            0\n",
      "codigo_postal      53\n",
      "email               0\n",
      "fecha_apertura      0\n",
      "dtype: int64\n",
      "\n",
      "DUPLICADOS EN VENTAS: 0\n",
      "DUPLICADOS EN SUCURSALES: 0\n"
     ]
    }
   ],
   "source": [
    "# Ver cuántos valores nulos hay por columna\n",
    "print(\"NULOS EN VENTAS:\\n\", ventas.isnull().sum())\n",
    "print(\"\\nNULOS EN SUCURSALES:\\n\", sucursales.isnull().sum())\n",
    "\n",
    "# Verificar duplicados\n",
    "print(\"\\nDUPLICADOS EN VENTAS:\", ventas.duplicated().sum())\n",
    "print(\"DUPLICADOS EN SUCURSALES:\", sucursales.duplicated().sum())\n"
   ]
  },
  {
   "cell_type": "code",
   "execution_count": 9,
   "id": "f96ffcd2-ac0b-4b51-91b4-da4239ee271d",
   "metadata": {},
   "outputs": [],
   "source": [
    "# Eliminar duplicados si hay\n",
    "ventas.drop_duplicates(inplace=True)\n",
    "sucursales.drop_duplicates(inplace=True)\n",
    "\n",
    "# Rellenar valores nulos en código_postal si quieres (o eliminarlos)\n",
    "ventas['codigo_postal'] = ventas['codigo_postal'].fillna('Desconocido')\n",
    "\n",
    "\n"
   ]
  },
  {
   "cell_type": "code",
   "execution_count": 10,
   "id": "e8769f4a-d4ac-4fd1-82ea-7fb2b10f293f",
   "metadata": {},
   "outputs": [],
   "source": [
    "ventas['fecha_apertura'] = pd.to_datetime(ventas['fecha_apertura'], errors='coerce')\n"
   ]
  },
  {
   "cell_type": "code",
   "execution_count": 11,
   "id": "8ba52b3b-301a-449c-b230-66ad85fb4f1c",
   "metadata": {},
   "outputs": [
    {
     "data": {
      "text/html": [
       "<div>\n",
       "<style scoped>\n",
       "    .dataframe tbody tr th:only-of-type {\n",
       "        vertical-align: middle;\n",
       "    }\n",
       "\n",
       "    .dataframe tbody tr th {\n",
       "        vertical-align: top;\n",
       "    }\n",
       "\n",
       "    .dataframe thead th {\n",
       "        text-align: right;\n",
       "    }\n",
       "</style>\n",
       "<table border=\"1\" class=\"dataframe\">\n",
       "  <thead>\n",
       "    <tr style=\"text-align: right;\">\n",
       "      <th></th>\n",
       "      <th>id_sucursal</th>\n",
       "      <th>nombre_sucursal_x</th>\n",
       "      <th>direccion_x</th>\n",
       "      <th>ciudad_x</th>\n",
       "      <th>pais_x</th>\n",
       "      <th>telefono_x</th>\n",
       "      <th>codigo_postal_x</th>\n",
       "      <th>email_x</th>\n",
       "      <th>fecha_apertura_x</th>\n",
       "      <th>nombre_sucursal_y</th>\n",
       "      <th>direccion_y</th>\n",
       "      <th>ciudad_y</th>\n",
       "      <th>pais_y</th>\n",
       "      <th>telefono_y</th>\n",
       "      <th>codigo_postal_y</th>\n",
       "      <th>email_y</th>\n",
       "      <th>fecha_apertura_y</th>\n",
       "    </tr>\n",
       "  </thead>\n",
       "  <tbody>\n",
       "    <tr>\n",
       "      <th>0</th>\n",
       "      <td>1</td>\n",
       "      <td>Avavee</td>\n",
       "      <td>99869 Meadow Ridge Circle</td>\n",
       "      <td>Nîmes</td>\n",
       "      <td>France</td>\n",
       "      <td>529-725-8784</td>\n",
       "      <td>30942 CEDEX 9</td>\n",
       "      <td>acrutcher0@wikia.com</td>\n",
       "      <td>10/14/2024</td>\n",
       "      <td>Avavee</td>\n",
       "      <td>99869 Meadow Ridge Circle</td>\n",
       "      <td>Nîmes</td>\n",
       "      <td>France</td>\n",
       "      <td>529-725-8784</td>\n",
       "      <td>30942 CEDEX 9</td>\n",
       "      <td>acrutcher0@wikia.com</td>\n",
       "      <td>2024-10-14</td>\n",
       "    </tr>\n",
       "    <tr>\n",
       "      <th>1</th>\n",
       "      <td>2</td>\n",
       "      <td>Jaxbean</td>\n",
       "      <td>20491 Sauthoff Trail</td>\n",
       "      <td>Bungkal</td>\n",
       "      <td>Indonesia</td>\n",
       "      <td>686-904-4283</td>\n",
       "      <td>NaN</td>\n",
       "      <td>dmatteucci1@bbc.co.uk</td>\n",
       "      <td>4/22/2025</td>\n",
       "      <td>Jaxbean</td>\n",
       "      <td>20491 Sauthoff Trail</td>\n",
       "      <td>Bungkal</td>\n",
       "      <td>Indonesia</td>\n",
       "      <td>686-904-4283</td>\n",
       "      <td>NaN</td>\n",
       "      <td>dmatteucci1@bbc.co.uk</td>\n",
       "      <td>2025-04-22</td>\n",
       "    </tr>\n",
       "    <tr>\n",
       "      <th>2</th>\n",
       "      <td>3</td>\n",
       "      <td>Gigashots</td>\n",
       "      <td>8 Dovetail Court</td>\n",
       "      <td>Ipirá</td>\n",
       "      <td>Brazil</td>\n",
       "      <td>379-697-7291</td>\n",
       "      <td>44600-000</td>\n",
       "      <td>maubray2@desdev.cn</td>\n",
       "      <td>6/12/2025</td>\n",
       "      <td>Gigashots</td>\n",
       "      <td>8 Dovetail Court</td>\n",
       "      <td>Ipirá</td>\n",
       "      <td>Brazil</td>\n",
       "      <td>379-697-7291</td>\n",
       "      <td>44600-000</td>\n",
       "      <td>maubray2@desdev.cn</td>\n",
       "      <td>2025-06-12</td>\n",
       "    </tr>\n",
       "    <tr>\n",
       "      <th>3</th>\n",
       "      <td>4</td>\n",
       "      <td>Pixonyx</td>\n",
       "      <td>1 Talisman Pass</td>\n",
       "      <td>Genzi</td>\n",
       "      <td>China</td>\n",
       "      <td>797-784-7603</td>\n",
       "      <td>NaN</td>\n",
       "      <td>cnoury3@mashable.com</td>\n",
       "      <td>1/15/2025</td>\n",
       "      <td>Pixonyx</td>\n",
       "      <td>1 Talisman Pass</td>\n",
       "      <td>Genzi</td>\n",
       "      <td>China</td>\n",
       "      <td>797-784-7603</td>\n",
       "      <td>NaN</td>\n",
       "      <td>cnoury3@mashable.com</td>\n",
       "      <td>2025-01-15</td>\n",
       "    </tr>\n",
       "    <tr>\n",
       "      <th>4</th>\n",
       "      <td>5</td>\n",
       "      <td>Yakitri</td>\n",
       "      <td>4254 Crescent Oaks Way</td>\n",
       "      <td>Boevange-sur-Attert</td>\n",
       "      <td>Luxembourg</td>\n",
       "      <td>321-246-7725</td>\n",
       "      <td>L-8711</td>\n",
       "      <td>csherwood4@eepurl.com</td>\n",
       "      <td>7/23/2024</td>\n",
       "      <td>Yakitri</td>\n",
       "      <td>4254 Crescent Oaks Way</td>\n",
       "      <td>Boevange-sur-Attert</td>\n",
       "      <td>Luxembourg</td>\n",
       "      <td>321-246-7725</td>\n",
       "      <td>L-8711</td>\n",
       "      <td>csherwood4@eepurl.com</td>\n",
       "      <td>2024-07-23</td>\n",
       "    </tr>\n",
       "  </tbody>\n",
       "</table>\n",
       "</div>"
      ],
      "text/plain": [
       "   id_sucursal nombre_sucursal_x                direccion_x  \\\n",
       "0            1            Avavee  99869 Meadow Ridge Circle   \n",
       "1            2           Jaxbean       20491 Sauthoff Trail   \n",
       "2            3         Gigashots           8 Dovetail Court   \n",
       "3            4           Pixonyx            1 Talisman Pass   \n",
       "4            5           Yakitri     4254 Crescent Oaks Way   \n",
       "\n",
       "              ciudad_x      pais_x    telefono_x codigo_postal_x  \\\n",
       "0                Nîmes      France  529-725-8784   30942 CEDEX 9   \n",
       "1              Bungkal   Indonesia  686-904-4283             NaN   \n",
       "2                Ipirá      Brazil  379-697-7291       44600-000   \n",
       "3                Genzi       China  797-784-7603             NaN   \n",
       "4  Boevange-sur-Attert  Luxembourg  321-246-7725          L-8711   \n",
       "\n",
       "                 email_x fecha_apertura_x nombre_sucursal_y  \\\n",
       "0   acrutcher0@wikia.com       10/14/2024            Avavee   \n",
       "1  dmatteucci1@bbc.co.uk        4/22/2025           Jaxbean   \n",
       "2     maubray2@desdev.cn        6/12/2025         Gigashots   \n",
       "3   cnoury3@mashable.com        1/15/2025           Pixonyx   \n",
       "4  csherwood4@eepurl.com        7/23/2024           Yakitri   \n",
       "\n",
       "                 direccion_y             ciudad_y      pais_y    telefono_y  \\\n",
       "0  99869 Meadow Ridge Circle                Nîmes      France  529-725-8784   \n",
       "1       20491 Sauthoff Trail              Bungkal   Indonesia  686-904-4283   \n",
       "2           8 Dovetail Court                Ipirá      Brazil  379-697-7291   \n",
       "3            1 Talisman Pass                Genzi       China  797-784-7603   \n",
       "4     4254 Crescent Oaks Way  Boevange-sur-Attert  Luxembourg  321-246-7725   \n",
       "\n",
       "  codigo_postal_y                email_y fecha_apertura_y  \n",
       "0   30942 CEDEX 9   acrutcher0@wikia.com       2024-10-14  \n",
       "1             NaN  dmatteucci1@bbc.co.uk       2025-04-22  \n",
       "2       44600-000     maubray2@desdev.cn       2025-06-12  \n",
       "3             NaN   cnoury3@mashable.com       2025-01-15  \n",
       "4          L-8711  csherwood4@eepurl.com       2024-07-23  "
      ]
     },
     "execution_count": 11,
     "metadata": {},
     "output_type": "execute_result"
    }
   ],
   "source": [
    "df_combinado = pd.merge(sucursales, ventas, on='id_sucursal', how='left')\n",
    "df_combinado.head()\n"
   ]
  },
  {
   "cell_type": "code",
   "execution_count": 12,
   "id": "8a8afef8-5793-48c4-a64e-0217437bf4d5",
   "metadata": {},
   "outputs": [],
   "source": [
    "df_combinado.to_csv('ventas_preprocesadas.csv', index=False)\n"
   ]
  },
  {
   "cell_type": "code",
   "execution_count": 14,
   "id": "0cb8e4db-364a-4e67-a943-7bc207571f7d",
   "metadata": {},
   "outputs": [
    {
     "data": {
      "image/png": "[encoded data removed]",
      "text/plain": [
       "<Figure size 1000x500 with 1 Axes>"
      ]
     },
     "metadata": {},
     "output_type": "display_data"
    }
   ],
   "source": [
    "import matplotlib.pyplot as plt\n",
    "\n",
    "ventas_por_sucursal = ventas['id_sucursal'].value_counts()\n",
    "\n",
    "ventas_por_sucursal.plot(kind='bar', figsize=(10,5), title='Cantidad de ventas por sucursal')\n",
    "plt.xlabel('ID Sucursal')\n",
    "plt.ylabel('Cantidad de ventas')\n",
    "plt.tight_layout()\n",
    "plt.show()\n"
   ]
  },
  {
   "cell_type": "code",
   "execution_count": 15,
   "id": "628cea02-306c-4112-8438-7c55d77c7950",
   "metadata": {},
   "outputs": [
    {
     "data": {
      "image/png": "[encoded data removed]",
      "text/plain": [
       "<Figure size 640x480 with 1 Axes>"
      ]
     },
     "metadata": {},
     "output_type": "display_data"
    }
   ],
   "source": [
    "ventas_por_cp = ventas['codigo_postal'].value_counts().head(10)  # Solo los 10 más comunes\n",
    "\n",
    "ventas_por_cp.plot(kind='barh', title='Ventas por Código Postal (Top 10)', color='skyblue')\n",
    "plt.xlabel('Cantidad de Ventas')\n",
    "plt.ylabel('Código Postal')\n",
    "plt.tight_layout()\n",
    "plt.show()\n"
   ]
  },
  {
   "cell_type": "code",
   "execution_count": 16,
   "id": "6b6c184f-d8a8-4fa6-a45e-33ff07063ebc",
   "metadata": {},
   "outputs": [
    {
     "name": "stdout",
     "output_type": "stream",
     "text": [
      "Index(['id_sucursal', 'nombre_sucursal', 'direccion', 'ciudad', 'pais',\n",
      "       'telefono', 'codigo_postal', 'email', 'fecha_apertura'],\n",
      "      dtype='object')\n"
     ]
    }
   ],
   "source": [
    "\n",
    "print(ventas.columns)\n"
   ]
  },
  {
   "cell_type": "code",
   "execution_count": 13,
   "id": "a7269b57-5073-4c84-a45c-e407aad1d150",
   "metadata": {},
   "outputs": [
    {
     "name": "stdout",
     "output_type": "stream",
     "text": [
      "Index(['id_sucursal', 'nombre_sucursal', 'direccion', 'ciudad', 'pais',\n",
      "       'telefono', 'codigo_postal', 'email', 'fecha_apertura'],\n",
      "      dtype='object')\n"
     ]
    }
   ],
   "source": [
    "print(ventas.columns)\n"
   ]
  },
  {
   "cell_type": "code",
   "execution_count": null,
   "id": "f640ea84-e7ad-4e3a-a069-6624f198c033",
   "metadata": {},
   "outputs": [],
   "source": []
  }
 ],
 "metadata": {
  "kernelspec": {
   "display_name": "Python 3 (ipykernel)",
   "language": "python",
   "name": "python3"
  },
  "language_info": {
   "codemirror_mode": {
    "name": "ipython",
    "version": 3
   },
   "file_extension": ".py",
   "mimetype": "text/x-python",
   "name": "python",
   "nbconvert_exporter": "python",
   "pygments_lexer": "ipython3",
   "version": "3.13.3"
  }
 },
 "nbformat": 4,
 "nbformat_minor": 5
}
